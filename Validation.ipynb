{
 "cells": [
  {
   "cell_type": "code",
   "execution_count": 3,
   "metadata": {},
   "outputs": [
    {
     "name": "stderr",
     "output_type": "stream",
     "text": [
      "\n"
     ]
    }
   ],
   "source": [
    "import fasttext\n",
    "\n",
    "model = fasttext.load_model('model.ftz')"
   ]
  },
  {
   "cell_type": "code",
   "execution_count": 69,
   "metadata": {},
   "outputs": [
    {
     "name": "stdout",
     "output_type": "stream",
     "text": [
      "Hamming loss\t\t\t0.018665\n",
      "Not predicted\t\t\t931\n",
      "Falsely predicted\t\t582\n",
      "True number of labels\t\t8121\n",
      "Predicted number of labels\t7772\n"
     ]
    }
   ],
   "source": [
    "import pandas as pd\n",
    "\n",
    "def hamming_loss(test_df):\n",
    "    not_predicted = 0\n",
    "    falsely_predicted = 0\n",
    "    number_of_true_labels = 0\n",
    "    number_of_predicted_labels = 0\n",
    "    \n",
    "    for index, row in test_df.iterrows():\n",
    "        predict = model.predict(row['storyline'],3)\n",
    "        number_of_true_labels += len(row['genre'].split(\" \"))\n",
    "        genres = []\n",
    "        for i,p in enumerate(predict[1]):\n",
    "            if(p > 0.140):\n",
    "                genres.append(predict[0][i][9:])\n",
    "\n",
    "        number_of_predicted_labels += len(genres)\n",
    "        \n",
    "        results = calculate_errors(genres, row['genre'].split(\" \"))\n",
    "        not_predicted += results[0]\n",
    "        falsely_predicted += results[1]\n",
    "        \n",
    "    return (not_predicted + falsely_predicted) / (28*len(test_df)), not_predicted, falsely_predicted, number_of_true_labels, number_of_predicted_labels\n",
    "                \n",
    "def calculate_errors(predicted, actual):\n",
    "    not_predicted = 0\n",
    "    falsely_predicted = 0\n",
    "    \n",
    "    for genre in actual:\n",
    "        if genre not in predicted:\n",
    "            not_predicted += 1\n",
    "    for genre in predicted:\n",
    "        if genre not in actual:\n",
    "            falsely_predicted += 1\n",
    "    \n",
    "    return not_predicted, falsely_predicted\n",
    "\n",
    "def print_evaluation_results(results):    \n",
    "    hl, np, fp, ntl, npl = results\n",
    "    print(\"Hamming loss\\t\\t\\t{:.6f}\".format(hl))\n",
    "    print(\"Not predicted\\t\\t\\t{}\".format(np))\n",
    "    print(\"Falsely predicted\\t\\t{}\".format(fp))\n",
    "    print(\"True number of labels\\t\\t{}\".format(ntl))\n",
    "    print(\"Predicted number of labels\\t{}\".format(npl))\n",
    "  \n",
    "df = pd.read_csv('dataset_test.csv')\n",
    "\n",
    "print_evaluation_results(hamming_loss(df))"
   ]
  },
  {
   "cell_type": "code",
   "execution_count": null,
   "metadata": {},
   "outputs": [],
   "source": []
  }
 ],
 "metadata": {
  "kernelspec": {
   "display_name": "Python 3",
   "language": "python",
   "name": "python3"
  },
  "language_info": {
   "codemirror_mode": {
    "name": "ipython",
    "version": 3
   },
   "file_extension": ".py",
   "mimetype": "text/x-python",
   "name": "python",
   "nbconvert_exporter": "python",
   "pygments_lexer": "ipython3",
   "version": "3.7.3"
  }
 },
 "nbformat": 4,
 "nbformat_minor": 2
}
