{
 "cells": [
  {
   "cell_type": "code",
   "execution_count": 2,
   "metadata": {},
   "outputs": [],
   "source": [
    "import pandas as pd"
   ]
  },
  {
   "cell_type": "code",
   "execution_count": 3,
   "metadata": {},
   "outputs": [
    {
     "data": {
      "text/html": [
       "<div>\n",
       "<style scoped>\n",
       "    .dataframe tbody tr th:only-of-type {\n",
       "        vertical-align: middle;\n",
       "    }\n",
       "\n",
       "    .dataframe tbody tr th {\n",
       "        vertical-align: top;\n",
       "    }\n",
       "\n",
       "    .dataframe thead th {\n",
       "        text-align: right;\n",
       "    }\n",
       "</style>\n",
       "<table border=\"1\" class=\"dataframe\">\n",
       "  <thead>\n",
       "    <tr style=\"text-align: right;\">\n",
       "      <th></th>\n",
       "      <th>Unnamed: 0</th>\n",
       "      <th>genre</th>\n",
       "      <th>storyline</th>\n",
       "      <th>title</th>\n",
       "    </tr>\n",
       "  </thead>\n",
       "  <tbody>\n",
       "    <tr>\n",
       "      <th>0</th>\n",
       "      <td>0</td>\n",
       "      <td>Action Comedy Crime</td>\n",
       "      <td>Elwood, the now lone \"Blues Brother\" finally r...</td>\n",
       "      <td>Braća Blues 2000</td>\n",
       "    </tr>\n",
       "    <tr>\n",
       "      <th>1</th>\n",
       "      <td>1</td>\n",
       "      <td>Comedy Drama Family</td>\n",
       "      <td>Troy and the gang of East High School are goin...</td>\n",
       "      <td>High School Musical 3: Maturanti</td>\n",
       "    </tr>\n",
       "    <tr>\n",
       "      <th>2</th>\n",
       "      <td>2</td>\n",
       "      <td>Comedy Family Music</td>\n",
       "      <td>When the teenager Mary Elizabeth Steppe, a.k.a...</td>\n",
       "      <td>Confessions of a Teenage Drama Queen</td>\n",
       "    </tr>\n",
       "    <tr>\n",
       "      <th>3</th>\n",
       "      <td>3</td>\n",
       "      <td>Animation Comedy Family</td>\n",
       "      <td>After a concert mishap lands Dave in the hospi...</td>\n",
       "      <td>Alvin and the Chipmunks: The Squeakquel</td>\n",
       "    </tr>\n",
       "    <tr>\n",
       "      <th>4</th>\n",
       "      <td>4</td>\n",
       "      <td>Animation Adventure Comedy</td>\n",
       "      <td>Playing around while aboard a cruise ship, the...</td>\n",
       "      <td>Alvin i vjeverice 3</td>\n",
       "    </tr>\n",
       "  </tbody>\n",
       "</table>\n",
       "</div>"
      ],
      "text/plain": [
       "   Unnamed: 0                       genre  \\\n",
       "0           0         Action Comedy Crime   \n",
       "1           1         Comedy Drama Family   \n",
       "2           2         Comedy Family Music   \n",
       "3           3     Animation Comedy Family   \n",
       "4           4  Animation Adventure Comedy   \n",
       "\n",
       "                                           storyline  \\\n",
       "0  Elwood, the now lone \"Blues Brother\" finally r...   \n",
       "1  Troy and the gang of East High School are goin...   \n",
       "2  When the teenager Mary Elizabeth Steppe, a.k.a...   \n",
       "3  After a concert mishap lands Dave in the hospi...   \n",
       "4  Playing around while aboard a cruise ship, the...   \n",
       "\n",
       "                                     title  \n",
       "0                         Braća Blues 2000  \n",
       "1         High School Musical 3: Maturanti  \n",
       "2     Confessions of a Teenage Drama Queen  \n",
       "3  Alvin and the Chipmunks: The Squeakquel  \n",
       "4                      Alvin i vjeverice 3  "
      ]
     },
     "execution_count": 3,
     "metadata": {},
     "output_type": "execute_result"
    }
   ],
   "source": [
    "df = pd.read_csv('dataset_at_the_end.csv')\n",
    "df.head()"
   ]
  },
  {
   "cell_type": "code",
   "execution_count": 21,
   "metadata": {},
   "outputs": [],
   "source": [
    "from sklearn.model_selection import train_test_split\n",
    "\n",
    "train, test = train_test_split(df, test_size = 0.25)\n",
    "\n",
    "train.to_csv('dataset_train.csv')\n",
    "test.to_csv('dataset_test.csv')"
   ]
  },
  {
   "cell_type": "code",
   "execution_count": 22,
   "metadata": {},
   "outputs": [],
   "source": [
    "train_lines = []\n",
    "\n",
    "for index, row in train.iterrows():\n",
    "    genres = row['genre'].split(\" \")\n",
    "    for genre in genres:\n",
    "        line = '__label__' + genre + ' ' + row['storyline'] \n",
    "        train_lines.append(line)     "
   ]
  },
  {
   "cell_type": "code",
   "execution_count": 28,
   "metadata": {},
   "outputs": [],
   "source": [
    "test_lines = []\n",
    "\n",
    "for index, row in test.iterrows():\n",
    "    genres = row['genre'].split(\" \")\n",
    "    for genre in genres:\n",
    "        line = '__label__' + genre + ' ' + row['storyline'] \n",
    "        test_lines.append(line) "
   ]
  },
  {
   "cell_type": "code",
   "execution_count": 24,
   "metadata": {},
   "outputs": [
    {
     "data": {
      "text/plain": [
       "'__label__Comedy Number 5, one of a group of experimental military robots, undergoes a sudden transformation after being struck by lightning. He develops self-awareness, consciousness, and a fear of the reprogramming that awaits him back at the factory. With the help of a young woman, Number 5 tries to evade capture and convince his creator that he has truly become alive.'"
      ]
     },
     "execution_count": 24,
     "metadata": {},
     "output_type": "execute_result"
    }
   ],
   "source": [
    "train_lines[0]"
   ]
  },
  {
   "cell_type": "code",
   "execution_count": 26,
   "metadata": {},
   "outputs": [
    {
     "data": {
      "text/plain": [
       "list"
      ]
     },
     "execution_count": 26,
     "metadata": {},
     "output_type": "execute_result"
    }
   ],
   "source": [
    "type(train_lines)"
   ]
  },
  {
   "cell_type": "code",
   "execution_count": 27,
   "metadata": {},
   "outputs": [],
   "source": [
    "with open('dataset_train.txt', 'w') as f:\n",
    "    for line in train_lines:\n",
    "        f.write(\"%s\\n\" % line)"
   ]
  },
  {
   "cell_type": "code",
   "execution_count": 29,
   "metadata": {},
   "outputs": [],
   "source": [
    "with open('dataset_test.txt', 'w') as f:\n",
    "    for line in test_lines:\n",
    "        f.write(\"%s\\n\" % line)"
   ]
  },
  {
   "cell_type": "code",
   "execution_count": null,
   "metadata": {},
   "outputs": [],
   "source": []
  }
 ],
 "metadata": {
  "kernelspec": {
   "display_name": "Python 3",
   "language": "python",
   "name": "python3"
  },
  "language_info": {
   "codemirror_mode": {
    "name": "ipython",
    "version": 3
   },
   "file_extension": ".py",
   "mimetype": "text/x-python",
   "name": "python",
   "nbconvert_exporter": "python",
   "pygments_lexer": "ipython3",
   "version": "3.7.3"
  }
 },
 "nbformat": 4,
 "nbformat_minor": 2
}
