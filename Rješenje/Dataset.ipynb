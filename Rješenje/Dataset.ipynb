{
 "cells": [
  {
   "cell_type": "code",
   "execution_count": 2,
   "metadata": {},
   "outputs": [],
   "source": [
    "import pandas as pd"
   ]
  },
  {
   "cell_type": "code",
   "execution_count": 3,
   "metadata": {},
   "outputs": [
    {
     "data": {
      "text/html": [
       "<div>\n",
       "<style scoped>\n",
       "    .dataframe tbody tr th:only-of-type {\n",
       "        vertical-align: middle;\n",
       "    }\n",
       "\n",
       "    .dataframe tbody tr th {\n",
       "        vertical-align: top;\n",
       "    }\n",
       "\n",
       "    .dataframe thead th {\n",
       "        text-align: right;\n",
       "    }\n",
       "</style>\n",
       "<table border=\"1\" class=\"dataframe\">\n",
       "  <thead>\n",
       "    <tr style=\"text-align: right;\">\n",
       "      <th></th>\n",
       "      <th>Unnamed: 0</th>\n",
       "      <th>genre</th>\n",
       "      <th>storyline</th>\n",
       "      <th>title</th>\n",
       "    </tr>\n",
       "  </thead>\n",
       "  <tbody>\n",
       "    <tr>\n",
       "      <th>0</th>\n",
       "      <td>0</td>\n",
       "      <td>Action Comedy Crime</td>\n",
       "      <td>Elwood, the now lone \"Blues Brother\" finally r...</td>\n",
       "      <td>Braća Blues 2000</td>\n",
       "    </tr>\n",
       "    <tr>\n",
       "      <th>1</th>\n",
       "      <td>1</td>\n",
       "      <td>Comedy Drama Family</td>\n",
       "      <td>Troy and the gang of East High School are goin...</td>\n",
       "      <td>High School Musical 3: Maturanti</td>\n",
       "    </tr>\n",
       "    <tr>\n",
       "      <th>2</th>\n",
       "      <td>2</td>\n",
       "      <td>Comedy Family Music</td>\n",
       "      <td>When the teenager Mary Elizabeth Steppe, a.k.a...</td>\n",
       "      <td>Confessions of a Teenage Drama Queen</td>\n",
       "    </tr>\n",
       "    <tr>\n",
       "      <th>3</th>\n",
       "      <td>3</td>\n",
       "      <td>Animation Comedy Family</td>\n",
       "      <td>After a concert mishap lands Dave in the hospi...</td>\n",
       "      <td>Alvin and the Chipmunks: The Squeakquel</td>\n",
       "    </tr>\n",
       "    <tr>\n",
       "      <th>4</th>\n",
       "      <td>4</td>\n",
       "      <td>Animation Adventure Comedy</td>\n",
       "      <td>Playing around while aboard a cruise ship, the...</td>\n",
       "      <td>Alvin i vjeverice 3</td>\n",
       "    </tr>\n",
       "  </tbody>\n",
       "</table>\n",
       "</div>"
      ],
      "text/plain": [
       "   Unnamed: 0                       genre  \\\n",
       "0           0         Action Comedy Crime   \n",
       "1           1         Comedy Drama Family   \n",
       "2           2         Comedy Family Music   \n",
       "3           3     Animation Comedy Family   \n",
       "4           4  Animation Adventure Comedy   \n",
       "\n",
       "                                           storyline  \\\n",
       "0  Elwood, the now lone \"Blues Brother\" finally r...   \n",
       "1  Troy and the gang of East High School are goin...   \n",
       "2  When the teenager Mary Elizabeth Steppe, a.k.a...   \n",
       "3  After a concert mishap lands Dave in the hospi...   \n",
       "4  Playing around while aboard a cruise ship, the...   \n",
       "\n",
       "                                     title  \n",
       "0                         Braća Blues 2000  \n",
       "1         High School Musical 3: Maturanti  \n",
       "2     Confessions of a Teenage Drama Queen  \n",
       "3  Alvin and the Chipmunks: The Squeakquel  \n",
       "4                      Alvin i vjeverice 3  "
      ]
     },
     "execution_count": 3,
     "metadata": {},
     "output_type": "execute_result"
    }
   ],
   "source": [
    "df = pd.read_csv('dataset_at_the_end.csv')\n",
    "df.head()"
   ]
  },
  {
   "cell_type": "code",
   "execution_count": 4,
   "metadata": {},
   "outputs": [],
   "source": [
    "from sklearn.model_selection import train_test_split\n",
    "\n",
    "train, test = train_test_split(df, test_size = 0.25)\n",
    "\n",
    "train.to_csv('dataset_train.csv')\n",
    "test.to_csv('dataset_test.csv')"
   ]
  },
  {
   "cell_type": "code",
   "execution_count": 5,
   "metadata": {},
   "outputs": [],
   "source": [
    "train_lines = []\n",
    "\n",
    "count_by_genre_train = dict()\n",
    "\n",
    "for index, row in train.iterrows():\n",
    "    genres = row['genre'].split(\" \")\n",
    "    for genre in genres:\n",
    "        line = '__label__' + genre + ' ' + row['storyline'] \n",
    "        train_lines.append(line)     \n",
    "        if genre in count_by_genre_train:\n",
    "            count_by_genre_train[genre] += 1\n",
    "        else:\n",
    "            count_by_genre_train[genre] = 1"
   ]
  },
  {
   "cell_type": "code",
   "execution_count": 6,
   "metadata": {},
   "outputs": [
    {
     "data": {
      "text/plain": [
       "2995"
      ]
     },
     "execution_count": 6,
     "metadata": {},
     "output_type": "execute_result"
    }
   ],
   "source": [
    "count_by_genre_train['Comedy']"
   ]
  },
  {
   "cell_type": "code",
   "execution_count": 7,
   "metadata": {},
   "outputs": [],
   "source": [
    "test_lines = []\n",
    "\n",
    "count_by_genre_test = dict()\n",
    "\n",
    "for index, row in test.iterrows():\n",
    "    genres = row['genre'].split(\" \")\n",
    "    for genre in genres:\n",
    "        line = '__label__' + genre + ' ' + row['storyline'] \n",
    "        test_lines.append(line) \n",
    "        if genre in count_by_genre_test:\n",
    "            count_by_genre_test[genre] += 1\n",
    "        else:\n",
    "            count_by_genre_test[genre] = 1"
   ]
  },
  {
   "cell_type": "code",
   "execution_count": 8,
   "metadata": {},
   "outputs": [
    {
     "data": {
      "text/plain": [
       "954"
      ]
     },
     "execution_count": 8,
     "metadata": {},
     "output_type": "execute_result"
    }
   ],
   "source": [
    "count_by_genre_test['Comedy']"
   ]
  },
  {
   "cell_type": "code",
   "execution_count": 12,
   "metadata": {},
   "outputs": [
    {
     "name": "stdout",
     "output_type": "stream",
     "text": [
      "{'Film-Noir': 41, 'Western': 67, 'Musical': 88, 'War': 157, 'Sport': 161, 'Music': 304, 'History': 333, 'Family': 647, 'Biography': 781, 'Sci-Fi': 852, 'Animation': 896, 'Fantasy': 921, 'Horror': 950, 'Mystery': 999, 'Romance': 1103, 'Thriller': 1344, 'Crime': 2010, 'Adventure': 2657, 'Action': 2818, 'Comedy': 2995, 'Drama': 4290}\n",
      "{'Film-Noir': 8, 'Western': 25, 'Musical': 24, 'War': 66, 'Sport': 56, 'Music': 102, 'History': 98, 'Family': 199, 'Biography': 248, 'Sci-Fi': 314, 'Animation': 338, 'Fantasy': 310, 'Horror': 334, 'Mystery': 351, 'Romance': 371, 'Thriller': 443, 'Crime': 623, 'Adventure': 879, 'Action': 907, 'Comedy': 954, 'Drama': 1436}\n"
     ]
    },
    {
     "data": {
      "image/png": "[encoded data removed]",
      "text/plain": [
       "<Figure size 1440x720 with 1 Axes>"
      ]
     },
     "metadata": {
      "needs_background": "light"
     },
     "output_type": "display_data"
    }
   ],
   "source": [
    "#plot\n",
    "import matplotlib\n",
    "import numpy as np\n",
    "import matplotlib.pylab as plt\n",
    "import operator\n",
    "\n",
    "def sort_by_another_dict(sorted_dict, dict_to_sort):\n",
    "    output = dict()\n",
    "    for key in sorted_dict.keys():\n",
    "        output[key] = dict_to_sort[key]\n",
    "    return output\n",
    "\n",
    "sorted_train = dict(sorted(count_by_genre_train.items(), key=operator.itemgetter(1)))\n",
    "sorted_test = sort_by_another_dict(sorted_train, count_by_genre_test)\n",
    "\n",
    "print(sorted_train)\n",
    "print(sorted_test)\n",
    "\n",
    "labels = list(sorted_train.keys())\n",
    "train_values = list(sorted_train.values())\n",
    "test_values = list(sorted_test.values())\n",
    "\n",
    "x = np.arange(len(labels))\n",
    "width = 0.35\n",
    "\n",
    "fig, ax = plt.subplots(figsize=(20, 10))\n",
    "\n",
    "rects1 = ax.bar(x - width/2, train_values, width, label='Train')\n",
    "rects2 = ax.bar(x + width/2, test_values, width, label='Test')\n",
    "\n",
    "ax.set_ylabel('Count')\n",
    "ax.set_title('Count by genre')\n",
    "ax.set_xticks(x)\n",
    "ax.set_xticklabels(labels)\n",
    "ax.legend()\n",
    "\n",
    "def autolabel(rects, c):\n",
    "    \"\"\"Attach a text label above each bar in *rects*, displaying its height.\"\"\"\n",
    "    for rect in rects:\n",
    "        height = rect.get_height()\n",
    "        ax.annotate('{}'.format(height),\n",
    "                    xy=(rect.get_x() + rect.get_width() / 2, height),\n",
    "                    xytext=(0, 3),  # 3 points vertical offset\n",
    "                    textcoords=\"offset points\",\n",
    "                    ha='center', va='bottom',\n",
    "                    color=c)\n",
    "        \n",
    "autolabel(rects1, (0.0, 0.0, 0.5, 1.0))\n",
    "autolabel(rects2, (1.0, 0.27, 0.0, 1.0))\n",
    "\n",
    "fig.tight_layout()\n",
    "\n",
    "plt.savefig('dataset.png')\n",
    "plt.show()"
   ]
  },
  {
   "cell_type": "code",
   "execution_count": 9,
   "metadata": {},
   "outputs": [
    {
     "data": {
      "text/plain": [
       "\"__label__Drama Caleb, a 26 year old programmer at the world's largest internet company, wins a competition to spend a week at a private mountain retreat belonging to Nathan, the reclusive CEO of the company. But when Caleb arrives at the remote location he finds that he will have to participate in a strange and fascinating experiment in which he must interact with the world's first true artificial intelligence, housed in the body of a beautiful robot girl.\""
      ]
     },
     "execution_count": 9,
     "metadata": {},
     "output_type": "execute_result"
    }
   ],
   "source": [
    "train_lines[0]"
   ]
  },
  {
   "cell_type": "code",
   "execution_count": 26,
   "metadata": {},
   "outputs": [
    {
     "data": {
      "text/plain": [
       "list"
      ]
     },
     "execution_count": 26,
     "metadata": {},
     "output_type": "execute_result"
    }
   ],
   "source": [
    "type(train_lines)"
   ]
  },
  {
   "cell_type": "code",
   "execution_count": 27,
   "metadata": {},
   "outputs": [],
   "source": [
    "with open('dataset_train.txt', 'w') as f:\n",
    "    for line in train_lines:\n",
    "        f.write(\"%s\\n\" % line)"
   ]
  },
  {
   "cell_type": "code",
   "execution_count": 29,
   "metadata": {},
   "outputs": [],
   "source": [
    "with open('dataset_test.txt', 'w') as f:\n",
    "    for line in test_lines:\n",
    "        f.write(\"%s\\n\" % line)"
   ]
  },
  {
   "cell_type": "code",
   "execution_count": null,
   "metadata": {},
   "outputs": [],
   "source": []
  }
 ],
 "metadata": {
  "kernelspec": {
   "display_name": "Python 3",
   "language": "python",
   "name": "python3"
  },
  "language_info": {
   "codemirror_mode": {
    "name": "ipython",
    "version": 3
   },
   "file_extension": ".py",
   "mimetype": "text/x-python",
   "name": "python",
   "nbconvert_exporter": "python",
   "pygments_lexer": "ipython3",
   "version": "3.7.3"
  }
 },
 "nbformat": 4,
 "nbformat_minor": 2
}
