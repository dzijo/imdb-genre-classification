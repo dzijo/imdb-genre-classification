{
 "cells": [
  {
   "cell_type": "code",
   "execution_count": 3,
   "metadata": {},
   "outputs": [
    {
     "name": "stdout",
     "output_type": "stream",
     "text": [
      "Collecting fasttext\n",
      "\u001b[?25l  Downloading https://files.pythonhosted.org/packages/10/61/2e01f1397ec533756c1d893c22d9d5ed3fce3a6e4af1976e0d86bb13ea97/fasttext-0.9.1.tar.gz (57kB)\n",
      "\u001b[K    100% |████████████████████████████████| 61kB 1.1MB/s \n",
      "\u001b[?25hRequirement already satisfied: pybind11>=2.2 in /home/matej/anaconda3/lib/python3.7/site-packages (from fasttext) (2.3.0)\n",
      "Requirement already satisfied: setuptools>=0.7.0 in /home/matej/anaconda3/lib/python3.7/site-packages (from fasttext) (40.8.0)\n",
      "Requirement already satisfied: numpy in /home/matej/anaconda3/lib/python3.7/site-packages (from fasttext) (1.16.2)\n",
      "Building wheels for collected packages: fasttext\n",
      "  Building wheel for fasttext (setup.py) ... \u001b[?25ldone\n",
      "\u001b[?25h  Stored in directory: /home/matej/.cache/pip/wheels/9f/f0/04/caa82c912aee89ce76358ff954f3f0729b7577c8ff23a292e3\n",
      "Successfully built fasttext\n",
      "Installing collected packages: fasttext\n",
      "Successfully installed fasttext-0.9.1\n"
     ]
    }
   ],
   "source": [
    "!pip install fasttext"
   ]
  },
  {
   "cell_type": "code",
   "execution_count": null,
   "metadata": {},
   "outputs": [],
   "source": [
    "import fasttext\n",
    "\n",
    "model = fasttext.train_supervised('dataset_train.txt', lr = 0.04, dim = 100, ws = 5, epoch = 200, minCount = 4)  "
   ]
  },
  {
   "cell_type": "code",
   "execution_count": null,
   "metadata": {},
   "outputs": [],
   "source": [
    "lr                # learning rate [0.1]\n",
    "dim               # size of word vectors [100]\n",
    "ws                # size of the context window [5]\n",
    "epoch             # number of epochs [5]\n",
    "minCount          # minimal number of word occurences [1]\n",
    "minCountLabel     # minimal number of label occurences [1]\n",
    "minn              # min length of char ngram [0]\n",
    "maxn              # max length of char ngram [0]\n",
    "neg               # number of negatives sampled [5]\n",
    "wordNgrams        # max length of word ngram [1]\n",
    "loss              # loss function {ns, hs, softmax, ova} [softmax]\n",
    "bucket            # number of buckets [2000000]\n",
    "thread            # number of threads [number of cpus]\n",
    "lrUpdateRate      # change the rate of updates for the learning rate [100]\n",
    "t                 # sampling threshold [0.0001]\n",
    "label             # label prefix ['__label__']\n",
    "verbose           # verbose [2]\n",
    "pretrainedVectors # pretrained word vectors (.vec file) for supervised learning []"
   ]
  },
  {
   "cell_type": "code",
   "execution_count": 67,
   "metadata": {},
   "outputs": [
    {
     "name": "stdout",
     "output_type": "stream",
     "text": [
      "N\t8121\n",
      "P@1\t0.308\n",
      "R@1\t0.925\n"
     ]
    }
   ],
   "source": [
    "def print_results(N, p, r):\n",
    "    print(\"N\\t\" + str(N))\n",
    "    print(\"P@{}\\t{:.3f}\".format(1, p))\n",
    "    print(\"R@{}\\t{:.3f}\".format(1, r))\n",
    "\n",
    "print_results(*model.test('dataset_test.txt', 3))"
   ]
  },
  {
   "cell_type": "code",
   "execution_count": 68,
   "metadata": {},
   "outputs": [
    {
     "name": "stdout",
     "output_type": "stream",
     "text": [
      "N\t8121\n",
      "P@1\t0.304\n",
      "R@1\t0.911\n"
     ]
    }
   ],
   "source": [
    "# with the previously trained `model` object, call :\n",
    "model.quantize(input='data_train.txt', retrain=True)\n",
    "\n",
    "# then display results and save the new model :\n",
    "print_results(*model.test('dataset_test.txt', 2))\n",
    "model.save_model(\"model.ftz\")"
   ]
  },
  {
   "cell_type": "code",
   "execution_count": 70,
   "metadata": {},
   "outputs": [
    {
     "name": "stdout",
     "output_type": "stream",
     "text": [
      "N\t8121\n",
      "P@1\t0.324\n",
      "R@1\t0.324\n"
     ]
    }
   ],
   "source": [
    "print_results(*model.test('dataset_test.txt', 1))"
   ]
  },
  {
   "cell_type": "code",
   "execution_count": 72,
   "metadata": {},
   "outputs": [
    {
     "data": {
      "text/plain": [
       "(('__label__Comedy',\n",
       "  '__label__Animation',\n",
       "  '__label__Adventure',\n",
       "  '__label__Fantasy',\n",
       "  '__label__Action',\n",
       "  '__label__Family',\n",
       "  '__label__Drama',\n",
       "  '__label__Horror',\n",
       "  '__label__Sci-Fi',\n",
       "  '__label__Crime'),\n",
       " array([3.30698371e-01, 3.26577634e-01, 3.12982887e-01, 1.45471245e-02,\n",
       "        6.11825706e-03, 4.72622458e-03, 2.49199825e-03, 1.00717670e-03,\n",
       "        2.68597709e-04, 2.44498980e-04]))"
      ]
     },
     "execution_count": 72,
     "metadata": {},
     "output_type": "execute_result"
    }
   ],
   "source": [
    "model.predict(\"Fearless optimist Anna teams up with rugged mountain man Kristoff and his loyal reindeer Sven and sets off on an epic journey to find her sister Elsa, whose icy powers have trapped the kingdom of Arendelle in eternal winter. Encountering Everest-like conditions, mystical trolls and a hilarious snowman named Olaf, Anna and Kristoff battle the elements in a race to save the kingdom. From the outside Elsa looks poised, regal and reserved, but in reality she lives in fear as she wrestles with a mighty secret: she was born with the power to create ice and snow. It's a beautiful ability, but also extremely dangerous. Haunted by the moment her magic nearly killed her younger sister Anna, Elsa has isolated herself, spending every waking minute trying to suppress her growing powers. Her mounting emotions trigger the magic, accidentally setting off an eternal winter that she can't stop. She fears she's becoming a monster and that no one, not even her sister, can help her.\", 10)"
   ]
  },
  {
   "cell_type": "code",
   "execution_count": 73,
   "metadata": {},
   "outputs": [
    {
     "data": {
      "text/plain": [
       "(('__label__Crime',\n",
       "  '__label__Thriller',\n",
       "  '__label__Action',\n",
       "  '__label__Drama',\n",
       "  '__label__Biography',\n",
       "  '__label__Mystery',\n",
       "  '__label__Comedy',\n",
       "  '__label__History',\n",
       "  '__label__Film-Noir',\n",
       "  '__label__Western'),\n",
       " array([5.05442977e-01, 4.81608987e-01, 9.10713524e-03, 2.12841318e-03,\n",
       "        7.83791358e-04, 3.00825806e-04, 2.09128470e-04, 1.62532087e-04,\n",
       "        1.02381862e-04, 8.64521207e-05]))"
      ]
     },
     "execution_count": 73,
     "metadata": {},
     "output_type": "execute_result"
    }
   ],
   "source": [
    "model.predict(\"Danny Ocean wants to score the biggest heist in history. He combines an eleven member team, including Frank Catton, Rusty Ryan and Linus Caldwell. Their target? The Bellagio, the Mirage and the MGM Grand. All casinos owned by Terry Benedict. It's not going to be easy, as they plan to get in secretly and out with $150 million.\", 10)"
   ]
  },
  {
   "cell_type": "code",
   "execution_count": 74,
   "metadata": {},
   "outputs": [
    {
     "data": {
      "text/plain": [
       "(('__label__Drama',\n",
       "  '__label__Comedy',\n",
       "  '__label__Romance',\n",
       "  '__label__Crime',\n",
       "  '__label__Biography',\n",
       "  '__label__Fantasy',\n",
       "  '__label__Thriller',\n",
       "  '__label__Action',\n",
       "  '__label__Sport',\n",
       "  '__label__Mystery'),\n",
       " array([8.10806930e-01, 8.71055424e-02, 7.01152161e-02, 1.26561411e-02,\n",
       "        5.83010074e-03, 4.07595886e-03, 2.60220910e-03, 2.39564688e-03,\n",
       "        2.37618783e-03, 3.88456188e-04]))"
      ]
     },
     "execution_count": 74,
     "metadata": {},
     "output_type": "execute_result"
    }
   ],
   "source": [
    "model.predict('After his death sometime in his forty-third year, suburbanite Lester Burnham tells of the last few weeks of his life, during which he had no idea of his imminent passing. He is a husband to real estate agent Carolyn Burnham and father to high school student Janie Burnham. Although Lester and Carolyn once loved each other, they now merely tolerate each other. Typical wallflower Janie too hates both her parents, the three who suffer individually in silence in their home life. Janie tries to steer clear of both her parents. Carolyn, relatively new to the real estate business, wants to create the persona of success to further her career, she aspiring to the professional life of Buddy Kane, the king of the real estate business in their neighborhood. Lester merely walks mindlessly through life, including at his job in advertising. His company is downsizing, and he, like all the other employees, has to justify his position to the newly hired efficiency expert to keep his job. Things change',10)"
   ]
  },
  {
   "cell_type": "code",
   "execution_count": 23,
   "metadata": {},
   "outputs": [
    {
     "name": "stdout",
     "output_type": "stream",
     "text": [
      "['Progress:   0.0% words/sec/thread: 1232323 lr:  0.039990 loss:  3.060291 ', 'Progress:   0.1% words/sec/thread: 1245744 lr:  0.039979 loss:  3.060180 ', 'Progress:   0.1% words/sec/thread: 1233611 lr:  0.039969 loss:  3.060168 ', 'Progress:   0.1% words/sec/thread: 1232877 lr:  0.039958 loss:  3.054887 ', 'Progress:   0.1% words/sec/thread: 1241285 lr:  0.039947 loss:  3.028983 ', 'Progress:   0.2% words/sec/thread: 1252013 lr:  0.039936 loss:  2.979458 ', 'Progress:   0.2% words/sec/thread: 1256624 lr:  0.039925 loss:  2.930930 ', 'Progress:   0.2% words/sec/thread: 1241422 lr:  0.039915 loss:  2.897735 ', 'Progress:   0.2% words/sec/thread: 1244523 lr:  0.039904 loss:  2.871225 ', 'Progress:   0.3% words/sec/thread: 1235756 lr:  0.039894 loss:  2.849284 ']\n",
      "0.039990\n",
      "[0.03999, 0.039979, 0.039969, 0.039958, 0.039947, 0.039936, 0.039925, 0.039915, 0.039904, 0.039894]\n",
      "[3.060291, 3.06018, 3.060168, 3.054887, 3.028983, 2.979458, 2.93093, 2.897735, 2.871225, 2.849284]\n"
     ]
    }
   ],
   "source": [
    "f = open('progress.txt', 'r')\n",
    "\n",
    "data = []\n",
    "\n",
    "if f.mode == 'r':\n",
    "    contents = f.read()\n",
    "    data = contents.split('ETA:   ')\n",
    "                \n",
    "print(data[0:10])\n",
    "\n",
    "print(data[0][data[0].find('lr:  ') + len('lr:  '): data[0].find(' loss:')])\n",
    "\n",
    "learning_rate = []\n",
    "loss = []\n",
    "\n",
    "for line in data[:-1]:\n",
    "    learning_rate.append(float(line[line.find('lr:  ') + len('lr:  '): line.find(' loss:')]))\n",
    "    loss.append(float(line[line.find('loss:  ') + len('loss:  '): -1]))\n",
    "    \n",
    "print(learning_rate[0:10])\n",
    "print(loss[0:10])"
   ]
  },
  {
   "cell_type": "code",
   "execution_count": 32,
   "metadata": {},
   "outputs": [
    {
     "ename": "AttributeError",
     "evalue": "'function' object has no attribute 'get_xaxis'",
     "output_type": "error",
     "traceback": [
      "\u001b[0;31m---------------------------------------------------------------------------\u001b[0m",
      "\u001b[0;31mAttributeError\u001b[0m                            Traceback (most recent call last)",
      "\u001b[0;32m<ipython-input-32-7f1ad5aa947a>\u001b[0m in \u001b[0;36m<module>\u001b[0;34m\u001b[0m\n\u001b[1;32m      4\u001b[0m \u001b[0;34m\u001b[0m\u001b[0m\n\u001b[1;32m      5\u001b[0m \u001b[0mplt\u001b[0m\u001b[0;34m.\u001b[0m\u001b[0mplot\u001b[0m\u001b[0;34m(\u001b[0m\u001b[0mx\u001b[0m\u001b[0;34m,\u001b[0m \u001b[0mloss\u001b[0m\u001b[0;34m,\u001b[0m \u001b[0mmarker\u001b[0m\u001b[0;34m=\u001b[0m\u001b[0;34m''\u001b[0m\u001b[0;34m,\u001b[0m \u001b[0mcolor\u001b[0m\u001b[0;34m=\u001b[0m\u001b[0;34m'orange'\u001b[0m\u001b[0;34m,\u001b[0m \u001b[0mlinewidth\u001b[0m\u001b[0;34m=\u001b[0m\u001b[0;36m2\u001b[0m\u001b[0;34m,\u001b[0m \u001b[0mlabel\u001b[0m\u001b[0;34m=\u001b[0m\u001b[0;34m'loss'\u001b[0m\u001b[0;34m)\u001b[0m\u001b[0;34m\u001b[0m\u001b[0;34m\u001b[0m\u001b[0m\n\u001b[0;32m----> 6\u001b[0;31m \u001b[0mplt\u001b[0m\u001b[0;34m.\u001b[0m\u001b[0maxes\u001b[0m\u001b[0;34m.\u001b[0m\u001b[0mget_xaxis\u001b[0m\u001b[0;34m(\u001b[0m\u001b[0;34m)\u001b[0m\u001b[0;34m.\u001b[0m\u001b[0mset_visible\u001b[0m\u001b[0;34m(\u001b[0m\u001b[0mfalse\u001b[0m\u001b[0;34m)\u001b[0m\u001b[0;34m\u001b[0m\u001b[0;34m\u001b[0m\u001b[0m\n\u001b[0m\u001b[1;32m      7\u001b[0m \u001b[0;34m\u001b[0m\u001b[0m\n\u001b[1;32m      8\u001b[0m \u001b[0mplt\u001b[0m\u001b[0;34m.\u001b[0m\u001b[0mlegend\u001b[0m\u001b[0;34m(\u001b[0m\u001b[0;34m)\u001b[0m\u001b[0;34m\u001b[0m\u001b[0;34m\u001b[0m\u001b[0m\n",
      "\u001b[0;31mAttributeError\u001b[0m: 'function' object has no attribute 'get_xaxis'"
     ]
    },
    {
     "data": {
      "image/png": "[encoded data removed]",
      "text/plain": [
       "<Figure size 432x288 with 1 Axes>"
      ]
     },
     "metadata": {
      "needs_background": "light"
     },
     "output_type": "display_data"
    }
   ],
   "source": [
    "import matplotlib.pyplot as plt\n",
    "\n",
    "x = range(len(loss))\n",
    "\n",
    "fig, ax = plt.subplots(1)\n",
    "\n",
    "ax.plot(x, loss, marker='', color='orange', linewidth=2, label='loss')\n",
    "ax.set_xticklabels([])\n",
    "\n",
    "plt.legend()\n",
    "\n",
    "plt.savefig('progress.png')\n",
    "plt.show()"
   ]
  },
  {
   "cell_type": "code",
   "execution_count": null,
   "metadata": {},
   "outputs": [],
   "source": []
  }
 ],
 "metadata": {
  "kernelspec": {
   "display_name": "Python 3",
   "language": "python",
   "name": "python3"
  },
  "language_info": {
   "codemirror_mode": {
    "name": "ipython",
    "version": 3
   },
   "file_extension": ".py",
   "mimetype": "text/x-python",
   "name": "python",
   "nbconvert_exporter": "python",
   "pygments_lexer": "ipython3",
   "version": "3.7.3"
  }
 },
 "nbformat": 4,
 "nbformat_minor": 2
}
